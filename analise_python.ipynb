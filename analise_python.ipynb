{
  "nbformat": 4,
  "nbformat_minor": 0,
  "metadata": {
    "colab": {
      "provenance": [],
      "toc_visible": true,
      "authorship_tag": "ABX9TyOV4lPHuog3k9vPfrrBKbbx",
      "include_colab_link": true
    },
    "kernelspec": {
      "name": "python3",
      "display_name": "Python 3"
    },
    "language_info": {
      "name": "python"
    }
  },
  "cells": [
    {
      "cell_type": "markdown",
      "metadata": {
        "id": "view-in-github",
        "colab_type": "text"
      },
      "source": [
        "<a href=\"https://colab.research.google.com/github/andrei0118/emd-desafio-junior-data-scientist/blob/main/analise_python.ipynb\" target=\"_parent\"><img src=\"https://colab.research.google.com/assets/colab-badge.svg\" alt=\"Open In Colab\"/></a>"
      ]
    },
    {
      "cell_type": "markdown",
      "source": [
        "### Instalação de Pacotes / Importação de Bibliotecas"
      ],
      "metadata": {
        "id": "zR3ggmy4qhr3"
      }
    },
    {
      "cell_type": "code",
      "source": [
        "%%capture\n",
        "!pip install basedosdados\n",
        "!pip install pyarrow"
      ],
      "metadata": {
        "id": "U0F5mfmdR5Ok"
      },
      "execution_count": 1,
      "outputs": []
    },
    {
      "cell_type": "code",
      "source": [
        "import basedosdados as bd\n",
        "import pandas as pd\n",
        "from datetime import datetime\n",
        "import matplotlib.pyplot as plt\n",
        "import seaborn as sns\n",
        "import plotly.graph_objects as go\n",
        "import folium\n",
        "from folium.plugins import MarkerCluster\n"
      ],
      "metadata": {
        "id": "YQ_yfD5atDfP"
      },
      "execution_count": 2,
      "outputs": []
    },
    {
      "cell_type": "markdown",
      "source": [
        "### Leitura dos Bancos de dados"
      ],
      "metadata": {
        "id": "2fheZj3BpeNY"
      }
    },
    {
      "cell_type": "markdown",
      "source": [
        "#### Dicionário Banco de Dados | Administração Serviços Públicos - Chamado 1746\n",
        "#### Nome\tDescrição\n",
        "\n",
        "- **id_chamado**\tIdentificador único do chamado no banco de dados.\n",
        "\n",
        "- **data_inicio**\tData de abertura do chamado. Ocorre quando o operador registra o chamado.\n",
        "\n",
        "- **data_fim**\tData de fechamento do chamado. O chamado é fechado quando o pedido é atendido ou quando se percebe que o pedido não pode ser atendido.\n",
        "\n",
        "- **id_bairro**\tIdentificador único, no banco de dados, do bairro onde ocorreu o fato que gerou o chamado.\n",
        "\n",
        "- **id_territorialidade**\tIdentificador único, no banco de dados, da territorialidade onde ocorreu o fato que gerou o chamado. Territorialidade é uma região da cidade do Rio de Janeiro que tem com responsável um órgão especifico. Exemplo: CDURP, que é responsável pela região do porto do Rio de Janeiro.\n",
        "\n",
        "- **id_logradouro**\tIdentificador único, no banco de dados, do logradouro onde ocorreu o fato que gerou o chamado.\n",
        "\n",
        "- **numero_logradouro**\tNúmero da porta onde ocorreu o fato que gerou o chamado.\n",
        "\n",
        "- **id_unidade_organizacional**\tIdentificador único, no banco de dados, do órgão que executa o chamado. Por exemplo: identificador da COMLURB quando o chamado é relativo a limpeza urbana.\n",
        "\n",
        "- **nome_unidade_organizacional**\tNome do órgão que executa a demanda. Por exemplo: COMLURB quando a demanda é relativa a limpeza urbana.\n",
        "\n",
        "- **id_unidade_organizacional_mae**\tID da unidade organizacional mãe do orgão que executa a demanda. Por exemplo: \"CVA - Coordenação de Vigilância de Alimentos\" é quem executa a demanda e obede a unidade organizacional mãe \"IVISA-RIO - Instituto Municipal de Vigilância Sanitária, de Zoonoses e de Inspeção Agropecuária\". A coluna se refere ao ID deste último.\n",
        "\n",
        "- **unidade_organizadional_ouvidoria**\tBooleano indicando se o chamado do cidadão foi feita Ouvidoria ou não. 1 caso sim, 0 caso não,\n",
        "\n",
        "- **categoria**\tCategoria do chamado. Exemplo: Serviço, informação, sugestão, elogio, reclamação, crítica.\n",
        "\n",
        "- **id_tipo**\tIdentificador único, no banco de dados, do tipo do chamado. Ex: Iluminação pública.\n",
        "\n",
        "- **tipo**\tNome do tipo do chamado. Ex: Iluminação pública.\n",
        "\n",
        "- **id_subtipo**\tIdentificador único, no banco de dados, do subtipo do chamado. Ex: Reparo de lâmpada apagada.\n",
        "\n",
        "- **subtipo**\tNome do subtipo do chamado. Ex: Reparo de lâmpada apagada.\n",
        "\n",
        "- **status**\tStatus do chamado. Ex. Fechado com solução, aberto em andamento, pendente etc.\n",
        "\n",
        "- **longitude**\tLongitude do lugar do evento que motivou o chamado.\n",
        "\n",
        "- **latitude**\tLatitude do lugar do evento que motivou o chamado.\n",
        "\n",
        "- **data_alvo_finalizacao**\tData prevista para o atendimento do chamado. Caso - prazo_tipo seja D fica em branco até o diagnóstico ser feito.\n",
        "\n",
        "- **data_alvo_diagnostico**\tData prevista para fazer o diagnóstico do serviço. Caso - prazo_tipo seja F esta data fica em branco.\n",
        "\n",
        "- **data_real_diagnostico**\tData em que foi feito o diagnóstico do serviço. Caso prazo_tipo seja F esta data fica em branco.\n",
        "\n",
        "- **tempo_prazo**\tPrazo para o serviço ser feito. Em dias ou horas após a abertura do chamado. Caso haja diagnóstico o prazo conta após se fazer o diagnóstico.\n",
        "\n",
        "- **prazo_unidade**\tUnidade de tempo utilizada no prazo. Dias ou horas. D ou H.\n",
        "\n",
        "- **prazo_tipo**\tDiagnóstico ou finalização. D ou F. Indica se a chamada precisa de diagnóstico ou não. Alguns serviços precisam de avaliação para serem feitos, neste caso é feito o diagnóstico. Por exemplo, pode de árvore. Há a necessidade de um engenheiro ambiental verificar a necessidade da poda ou não.\n",
        "\n",
        "- **dentro_prazo**\tIndica se a data alvo de finalização do chamado ainda está dentro do prazo estipulado.\n",
        "\n",
        "- **situacao**\tIdentifica se o chamado foi encerrado\n",
        "\n",
        "- **tipo_situacao**\tIndica o status atual do chamado entre as categorias Atendido, Atendido parcialmente, Não atendido, Não constatado e Andamento\n",
        "\n",
        "- **justificativa_status**\tJustificativa que os órgãos usam ao definir o status. Exemplo: SEM POSSIBILIDADE DE ATENDIMENTO - justificativa: Fora de área de atuação do municipio\n",
        "\n",
        "- **reclamacoes**\tQuantidade de reclamações."
      ],
      "metadata": {
        "id": "Y80W3OYC1k-6"
      }
    },
    {
      "cell_type": "code",
      "source": [
        "%%capture\n",
        "# Consulta SQL selecionando dados a partir de 2022\n",
        "query = \"\"\"\n",
        "    SELECT *\n",
        "    FROM `datario.administracao_servicos_publicos.chamado_1746`\n",
        "    WHERE EXTRACT(YEAR FROM data_inicio) >= 2022 \"\"\"\n",
        "\n",
        "# Lendo dados filtrados\n",
        "dados_chamado1746 = bd.read_sql(query, billing_project_id=\"projeto-rio2024\")\n",
        "dados_chamado1746"
      ],
      "metadata": {
        "id": "iRmKza5WFykW"
      },
      "execution_count": null,
      "outputs": []
    },
    {
      "cell_type": "markdown",
      "source": [
        "#### Dicionário Banco de Dados | Dados Mestres Bairros\n",
        "#### Nome\tDescrição\n",
        "\n",
        "- **id_bairro**\tCódigo do bairro dado pela prefeitura do Rio de Janeiro.\n",
        "\n",
        "- **nome** Nome do bairro\n",
        "\n",
        "- **id_area_planejamento** Código da área de planejamento onde está localizado a região de planejamento do bairro. Ver atributo nome_regiao_planejamento.\n",
        "\n",
        "- **id_regiao_planejamento** Código da região de planejamento onde está localizado a região administrativa do bairro. Ver atributo REGIAO_ADM.\n",
        "\n",
        "- **nome_regiao_planejamento** Nome da região de planejamento. Deve respeitar o atributo id_regiao_planejamento.\n",
        "\n",
        "- **id_regiao_administrativa** Código da região administrativa onde está locallizado o bairro.\n",
        "\n",
        "- **nome_regiao_administrativa** Nome da região administrativa onde está localizado o bairro. Este atributo deve respeitar o atributo id_regiao_administrativa.\n",
        "\n",
        "- **subprefeitura**\tNome da subprefeitura a que pertence o bairro.\n",
        "\n",
        "- **area**\tÁrea (m²) do bairro. Tem o mesmo valor do atributo SHAPE.STArea().\n",
        "\n",
        "- **perimetro**\tPerímetro (m) do bairro.\n",
        "\n",
        "- **geometry_wkt**\n",
        "\n",
        "- **geometry** Geometria do bairro no banco do ArcGIS."
      ],
      "metadata": {
        "id": "SJnMBR0Kmxmf"
      }
    },
    {
      "cell_type": "code",
      "source": [
        "%%capture\n",
        "#  Dados sobre os bairros da cidade do Rio de Janeiro - RJ\n",
        "\n",
        "dados_bairro = bd.read_sql ( \"SELECT * FROM `datario.dados_mestres.bairro`\" , billing_project_id = \"projeto-rio2024\" )\n",
        "dados_bairro"
      ],
      "metadata": {
        "id": "uGs-dKn1K8u3"
      },
      "execution_count": null,
      "outputs": []
    },
    {
      "cell_type": "code",
      "source": [
        "%%capture\n",
        "# Unir os dataframes usando a coluna chave id_bairro\n",
        "\n",
        "dados = pd.merge(dados_chamado1746, dados_bairro, on='id_bairro', how='left')\n",
        "dados"
      ],
      "metadata": {
        "id": "PouCyZOFxXpi"
      },
      "execution_count": null,
      "outputs": []
    },
    {
      "cell_type": "markdown",
      "source": [
        "### Respondendo Perguntas teste"
      ],
      "metadata": {
        "id": "8bLnXClXpIKW"
      }
    },
    {
      "cell_type": "markdown",
      "source": [
        "#### 1- Quantos chamados foram abertos no dia 01/04/2023?\n"
      ],
      "metadata": {
        "id": "jfcloDlGuWQt"
      }
    },
    {
      "cell_type": "code",
      "source": [
        "# Filtrando os dados para a data de início igual a '01/04/2023'\n",
        "dados_filtrados = dados[dados['data_inicio'].dt.strftime('%Y-%m-%d') == '2023-04-01']\n",
        "\n",
        "# Contando os valores únicos na coluna id_chamado\n",
        "total_chamados_unicos = dados_filtrados['id_chamado'].nunique()\n",
        "print(\"Total de chamados únicos abertos em 01/04/2023:\", total_chamados_unicos)\n"
      ],
      "metadata": {
        "id": "Anfz_UvujBSq"
      },
      "execution_count": null,
      "outputs": []
    },
    {
      "cell_type": "markdown",
      "source": [
        "RESPOSTA: Foram 73 chamados abertos"
      ],
      "metadata": {
        "id": "Ez_o1-KGMt0U"
      }
    },
    {
      "cell_type": "markdown",
      "source": [
        "#### 2- Qual o tipo de chamado que teve mais reclamações no dia 01/04/2023?"
      ],
      "metadata": {
        "id": "mf_W003eugbI"
      }
    },
    {
      "cell_type": "code",
      "source": [
        "# Tabela 1 - Tipo de chamados com mais reclamções\n",
        "\n",
        "dados_tabela1 = dados_filtrados['tipo'].value_counts().reset_index()\n",
        "dados_tabela1.columns = ['Tipo de Chamado', 'Total de Reclamações']\n",
        "\n",
        "# Criando tabela\n",
        "fig = go.Figure(data=[go.Table(\n",
        "    header=dict(values=['Tipo de Chamado', 'Total de Reclamações'],\n",
        "                fill_color='grey',\n",
        "                align='center',\n",
        "                font=dict(color='white', size=14, family='Arial, sans-serif')),\n",
        "    cells=dict(values=[dados_tabela1['Tipo de Chamado'], dados_tabela1['Total de Reclamações']],\n",
        "               fill_color='white',\n",
        "               align='center',\n",
        "               font=dict(color='black', size=12, family='Arial, sans-serif')))\n",
        "])\n",
        "\n",
        "# Título, fonte\n",
        "fig.update_layout(\n",
        "    title=dict(text=\"Tipos de Chamado com Mais Reclamações em 01/04/2023\", x=0.5, font=dict(size=16)),\n",
        "    annotations=[dict(text=\"Fonte: DataRio | Portal de Dados Abertos da Prefeitura da Cidade do Rio de Janeiro\", showarrow=False, x=0.5, y=-0.15, xref='paper', yref='paper', font=dict(size=12))]\n",
        ")\n",
        "\n",
        "fig.show()\n"
      ],
      "metadata": {
        "id": "T7kFD4YbYDmO"
      },
      "execution_count": null,
      "outputs": []
    },
    {
      "cell_type": "markdown",
      "source": [
        "RESPOSTA: Como podemos observar na tabela 1, Poluição Sonora foi o chamado com mais reclamações com 24 no total."
      ],
      "metadata": {
        "id": "NytzJSVuMhkm"
      }
    },
    {
      "cell_type": "markdown",
      "source": [
        "#### 3- Quais os nomes dos 3 bairros que mais tiveram chamados abertos nesse dia?\n"
      ],
      "metadata": {
        "id": "D_rO5QwVxY0o"
      }
    },
    {
      "cell_type": "code",
      "source": [
        "# Tabela 2 - Quantidade de chamados abertos por bairro\n",
        "\n",
        "# Contando o número de chamados únicos por bairro\n",
        "chamados_por_bairro = dados_filtrados.groupby('nome')['id_chamado'].nunique()\n",
        "\n",
        "# Ordenando os bairros\n",
        "bairros_mais_chamados = chamados_por_bairro.sort_values(ascending=False)\n",
        "\n",
        "# Selecionando os 3 bairros com maior número de chamados abertos\n",
        "top_3_bairros = bairros_mais_chamados.head(3)\n",
        "\n",
        "# Calculando a soma total de chamados\n",
        "total_chamados = bairros_mais_chamados.sum()\n",
        "\n",
        "# Criando DataFrame com os dados\n",
        "dados_tabela2 = bairros_mais_chamados.reset_index(name='Total de Chamados')\n",
        "\n",
        "# Adicionando a linha com a soma total de chamados\n",
        "dados_tabela2.loc[len(dados_tabela2)] = ['Total', total_chamados]\n",
        "\n",
        "# Criar lista de cores para destacar as linhas\n",
        "cores_destaque = ['lightgreen' if bairro in top_3_bairros.index else 'white' for bairro in dados_tabela2['nome']]\n",
        "\n",
        "# Criando tabela\n",
        "fig = go.Figure(data=[go.Table(\n",
        "    header=dict(values=['Bairro', 'Total de Chamados'],\n",
        "                fill_color='grey',\n",
        "                align='center',\n",
        "                font=dict(color='white', size=14, family='Arial, sans-serif')),\n",
        "    cells=dict(values=[dados_tabela2['nome'], dados_tabela2['Total de Chamados']],\n",
        "               fill_color=[cores_destaque, cores_destaque],\n",
        "               align='center',\n",
        "               font=dict(color='black', size=12, family='Arial, sans-serif')))\n",
        "])\n",
        "\n",
        "# Título, fonte\n",
        "fig.update_layout(\n",
        "    title=dict(text=\"Quantidade de Chamados Abertos por Bairros\", x=0.5, font=dict(size=16)),\n",
        "    annotations=[dict(text=\"Fonte: DataRio | Portal de Dados Abertos da Prefeitura da Cidade do Rio de Janeiro\", showarrow=False, x=0.5, y=-0.15, xref='paper', yref='paper', font=dict(size=12))]\n",
        ")\n",
        "\n",
        "fig.show()\n"
      ],
      "metadata": {
        "id": "xyU2Vw2otQfV"
      },
      "execution_count": null,
      "outputs": []
    },
    {
      "cell_type": "markdown",
      "source": [
        "RESPOSTA: Como podemos observar na tabela 2, os 3 bairros que mais tiveram chamados foram Engenho de Dentro com 8, Campo Grande e Leblon empatados com 6 seguidos de Barra da Tijuca e Engenho da Rainha empatados com 5."
      ],
      "metadata": {
        "id": "SKY2NO9BOU8w"
      }
    },
    {
      "cell_type": "markdown",
      "source": [
        "#### 4- Qual o nome da subprefeitura com mais chamados abertos nesse dia?"
      ],
      "metadata": {
        "id": "fLrQ5m0HPTUO"
      }
    },
    {
      "cell_type": "code",
      "source": [
        "# Gráfico de barras Chamados Abertos por Subprefeitura 01/04/2023\n",
        "\n",
        "chamados_por_subprefeitura = dados_filtrados.groupby('subprefeitura')['id_chamado'].count()\n",
        "\n",
        "plt.figure(figsize=(13.3, 7.5))\n",
        "bars = plt.bar(chamados_por_subprefeitura.index, chamados_por_subprefeitura.values, color='skyblue')\n",
        "\n",
        "# Adicionando rótulos nas barras\n",
        "for bar in bars:\n",
        "    yval = bar.get_height()\n",
        "    plt.text(bar.get_x() + bar.get_width()/2, yval + 0.2, round(yval, 2), ha='center', va='bottom', fontsize=9)\n",
        "plt.xticks(rotation=45, ha='right')\n",
        "plt.grid(False)\n",
        "\n",
        "# Título, subtítulo, fonte\n",
        "plt.xlabel('Subprefeituras')\n",
        "plt.ylabel('Total de chamados')\n",
        "plt.suptitle(\"Chamados Abertos por Subprefeitura\", ha='center', fontsize=12, fontweight='bold')\n",
        "plt.title(\"01/Abril de 2023 | Rio de Janeiro\", ha='center', fontsize=9, style='italic', pad=20)\n",
        "plt.figtext(0.5, -0.1, 'Fonte: DataRio | Portal de Dados Abertos da Prefeitura da Cidade do Rio de Janeiro', ha='center', fontsize=9)\n",
        "\n",
        "plt.tight_layout()\n",
        "plt.show()\n"
      ],
      "metadata": {
        "id": "by73mFhytfu1"
      },
      "execution_count": null,
      "outputs": []
    },
    {
      "cell_type": "markdown",
      "source": [
        "RESPOSTA: A subprefeitura com mais chamados foi da Zona Norte com um total de 25 chamados abertos no dia 01/04/2023"
      ],
      "metadata": {
        "id": "krV7eiujPLnq"
      }
    },
    {
      "cell_type": "markdown",
      "source": [
        "#### 5- Existe algum chamado aberto nesse dia que não foi associado a um bairro ou subprefeitura na tabela de bairros? Se sim, por que isso acontece?"
      ],
      "metadata": {
        "id": "knjdH5WTR1V0"
      }
    },
    {
      "cell_type": "code",
      "source": [
        "# Filtrando os dados para a data de início igual a '01/04/2023' e onde o bairro ou subprefeitura não estão associados\n",
        "dados_sem_localizacao = dados[(dados['data_inicio'].dt.strftime('%Y-%m-%d') == '2023-04-01') & (dados['nome'].isna() | dados['subprefeitura'].isna())]\n",
        "dados_sem_localizacao\n"
      ],
      "metadata": {
        "id": "HEayATV2TNwH"
      },
      "execution_count": null,
      "outputs": []
    },
    {
      "cell_type": "markdown",
      "source": [
        "RESPOSTA: Sim, podemos observar que há uma discrepância nos números de chamados ao longo da análise. Inicialmente, ao contabilizar o total de chamados para a data específica de 01/04/2023, identificamos 73 registros. No entanto, ao examinar os chamados por bairro e subprefeitura, notamos apenas 72 registros.\n",
        "\n",
        "Essa diferença sugere a presença de um chamado aberto que não está associado a nenhum bairro ou subprefeitura específicos. Essa falta de associação pode ocorrer devido a várias razões, nesse caso identifica - se dados incompletos ou ausentes no momento do registro, problemas técnicos durante a coleta ou até mesmo erros humanos na inserção dos dados."
      ],
      "metadata": {
        "id": "GHBTGK-4VNn5"
      }
    },
    {
      "cell_type": "markdown",
      "source": [
        "#### 6- Quantos chamados com o subtipo \"Perturbação do sossego\" foram abertos desde 01/01/2022 até 31/12/2023 (incluindo extremidades)?\n"
      ],
      "metadata": {
        "id": "mNcLy2MEVYfA"
      }
    },
    {
      "cell_type": "code",
      "source": [
        "# Definindo a data de início e a data de término do período\n",
        "data_inicial = datetime(2022, 1, 1).date()\n",
        "data_final = datetime(2023, 12, 31).date()\n",
        "\n",
        "dados['data_inicio'] = pd.to_datetime(dados['data_inicio']).dt.date\n",
        "\n",
        "# Filtrando os dados para incluir apenas os chamados com o subtipo \"Perturbação do sossego\" e dentro do período desejado\n",
        "chamados_periodo = dados[(dados['subtipo'] == 'Perturbação do sossego') &\n",
        "                         (dados['data_inicio'] >= data_inicial) &\n",
        "                         (dados['data_inicio'] <= data_final)]\n",
        "\n",
        "# Contando os chamados únicos na coluna id_chamado\n",
        "total_chamados_unicos = chamados_periodo['id_chamado'].nunique()\n",
        "print(\"Total de chamados únicos com o subtipo 'Perturbação do sossego' abertos de 01/01/2022 a 31/12/2023:\", total_chamados_unicos)\n"
      ],
      "metadata": {
        "id": "elhnXcEEXzSX"
      },
      "execution_count": null,
      "outputs": []
    },
    {
      "cell_type": "markdown",
      "source": [
        "RESPOSTA: O total de chamados aberto denominados como Pertubação de sossego nos em 2022/2023 foram 42408"
      ],
      "metadata": {
        "id": "9kYEJDlgT-SZ"
      }
    },
    {
      "cell_type": "markdown",
      "source": [
        "#### 7- Selecione os chamados com esse subtipo que foram abertos durante os eventos contidos na tabela de eventos (Reveillon, Carnaval e Rock in Rio).\n"
      ],
      "metadata": {
        "id": "N4LeOjfQYXGs"
      }
    },
    {
      "cell_type": "code",
      "source": [
        "%%capture\n",
        "# Dados sobre os eventos da cidade do Rio de Janeiro - RJ\n",
        "\n",
        "dados_evento = bd.read_sql ( \"SELECT * FROM `datario.turismo_fluxo_visitantes.rede_hoteleira_ocupacao_eventos`\" , billing_project_id = \"projeto-rio2024\" )\n",
        "dados_evento"
      ],
      "metadata": {
        "id": "HKNva638kYav"
      },
      "execution_count": 13,
      "outputs": []
    },
    {
      "cell_type": "code",
      "source": [
        "# Unindo os dataframe chamados_periodo e dados_evento\n",
        "chamados_eventos = chamados_periodo.merge(dados_evento, how='cross')\n",
        "\n",
        "# Convertendo as datas do evento para o formato datetime\n",
        "chamados_eventos['data_inicial'] = pd.to_datetime(chamados_eventos['data_inicial'])\n",
        "chamados_eventos['data_final'] = pd.to_datetime(chamados_eventos['data_final'])\n",
        "\n",
        "# Filtrando as linhas pelo intervalo de datas desejado\n",
        "resultado_final = chamados_eventos[(chamados_eventos['data_inicio'] >= chamados_eventos['data_inicial']) &\n",
        "                                     (chamados_eventos['data_inicio'] <= chamados_eventos['data_final'])]\n",
        "\n",
        "# Contando os chamados únicos na coluna id_chamado\n",
        "total_chamados_durante_eventos = resultado_final['id_chamado'].nunique()\n",
        "print(\"Total de chamados abertos durante os eventos:\", total_chamados_durante_eventos)"
      ],
      "metadata": {
        "id": "5mEqdUdFZQBw"
      },
      "execution_count": null,
      "outputs": []
    },
    {
      "cell_type": "markdown",
      "source": [
        "#### 8- Quantos chamados desse subtipo foram abertos em cada evento?"
      ],
      "metadata": {
        "id": "WSucMLVE387F"
      }
    },
    {
      "cell_type": "code",
      "source": [
        "# Gráfico de barras Chamados subtipos por evento\n",
        "\n",
        "chamados_por_evento = resultado_final.groupby('evento')['id_chamado'].count()\n",
        "\n",
        "plt.figure(figsize=(13.3, 7.5))\n",
        "bars = plt.bar(chamados_por_evento.index, chamados_por_evento.values, color='skyblue')\n",
        "\n",
        "# Adicionando rótulos nas barras\n",
        "for bar in bars:\n",
        "    yval = bar.get_height()\n",
        "    plt.text(bar.get_x() + bar.get_width()/2, yval + 0.2, round(yval, 2), ha='center', va='bottom', fontsize=9)\n",
        "plt.xticks(rotation=45, ha='right')\n",
        "plt.grid(False)\n",
        "\n",
        "# Título, lengeda, fonte\n",
        "plt.xlabel('Eventos')\n",
        "plt.ylabel('Total de chamados')\n",
        "plt.suptitle(\"Chamados Abertos por Pertubação de Sossego\", ha='center', fontsize=12, fontweight='bold')\n",
        "plt.title(\"Datas de Eventos 2022/2023 | Rio de Janeiro\", ha='center', fontsize=9, style='italic', pad=20)\n",
        "plt.figtext(0.5, -0.1, 'Fonte: DataRio | Portal de Dados Abertos da Prefeitura da Cidade do Rio de Janeiro', ha='center', fontsize=9)\n",
        "\n",
        "plt.tight_layout()\n",
        "plt.show()\n"
      ],
      "metadata": {
        "id": "r3hDPmcpVRuo"
      },
      "execution_count": null,
      "outputs": []
    },
    {
      "cell_type": "markdown",
      "source": [
        "RESPOSTA: O gráfico acima nos mostra que o Rock in Rio foi o evento que mais teve reclamações do sutipo \"Pertubação de Sossego\""
      ],
      "metadata": {
        "id": "170KonPn8MFG"
      }
    },
    {
      "cell_type": "markdown",
      "source": [
        "#### 9- Qual evento teve a maior média diária de chamados abertos desse subtipo?\n"
      ],
      "metadata": {
        "id": "lYb7GgbH9GIx"
      }
    },
    {
      "cell_type": "code",
      "source": [
        "# Tabela Total de Chamados e Média Diária por Evento\n",
        "\n",
        "# Total de dias de cada evento\n",
        "dias_reveillon = 3\n",
        "dias_carnaval = 4\n",
        "dias_rock_in_rio = 7\n",
        "\n",
        "# Calculando a média diária de chamados por evento\n",
        "media_diaria_reveillon = chamados_por_evento['Reveillon'] / dias_reveillon\n",
        "media_diaria_carnaval = chamados_por_evento['Carnaval'] / dias_carnaval\n",
        "media_diaria_rock_in_rio = chamados_por_evento['Rock in Rio'] / dias_rock_in_rio\n",
        "\n",
        "# DataFrame com os dados\n",
        "dados_tabela3 = pd.DataFrame({\n",
        "    'Evento': ['Reveillon', 'Carnaval', 'Rock in Rio'],\n",
        "    'Total de Chamados': [chamados_por_evento['Reveillon'], chamados_por_evento['Carnaval'], chamados_por_evento['Rock in Rio']],\n",
        "    'Média Diária': [media_diaria_reveillon, media_diaria_carnaval, media_diaria_rock_in_rio]\n",
        "})\n",
        "\n",
        "# Ordenando a tabela em ordem decrescente pelo número total de chamados\n",
        "dados_tabela3 = dados_tabela3.sort_values(by='Total de Chamados', ascending=False)\n",
        "\n",
        "# Evento com a maior quantidade de chamados\n",
        "evento_maior_chamados_corrigido = dados_tabela3.iloc[0]['Evento']\n",
        "\n",
        "# Lista de cores para destacar as linhas\n",
        "cores_destaque_corrigido = ['lightgreen' if evento == evento_maior_chamados_corrigido else 'white' for evento in dados_tabela3['Evento']]\n",
        "\n",
        "# Tabela\n",
        "fig = go.Figure(data=[go.Table(\n",
        "    header=dict(values=['Evento', 'Total de Chamados', 'Média Diária'],\n",
        "                fill_color='grey',\n",
        "                align='center',\n",
        "                font=dict(color='white', size=14, family='Arial, sans-serif')),\n",
        "    cells=dict(values=[dados_tabela3['Evento'], dados_tabela3['Total de Chamados'], dados_tabela3['Média Diária']],\n",
        "               fill_color=[cores_destaque_corrigido, cores_destaque_corrigido, cores_destaque_corrigido],\n",
        "               align='center',\n",
        "               font=dict(color='black', size=12, family='Arial, sans-serif')))\n",
        "])\n",
        "\n",
        "# Ajustando o layout\n",
        "fig.update_layout(\n",
        "    title=dict(text=\"Total de Chamados e Média Diária por Evento\", x=0.5, font=dict(size=16)),\n",
        "    annotations=[dict(text=\"Fonte: DataRio | Portal de Dados Abertos da Prefeitura da Cidade do Rio de Janeiro\", showarrow=False, x=0.5, y=-0.15, xref='paper', yref='paper', font=dict(size=12))]\n",
        ")\n",
        "\n",
        "fig.show()\n"
      ],
      "metadata": {
        "id": "m5Id3b_8PwkS"
      },
      "execution_count": null,
      "outputs": []
    },
    {
      "cell_type": "markdown",
      "source": [
        "RESPOSTA: Com a maior média diaria de chamados por pertubação do sossego ficou o evento Rock in rio como mostrado na tabela anterior, com 119 seguido de carnaval com 60, e reveilln com 45 chamados em média\n"
      ],
      "metadata": {
        "id": "GyqM4ZqX8loS"
      }
    },
    {
      "cell_type": "markdown",
      "source": [
        "#### 10- Compare as médias diárias de chamados abertos desse subtipo durante os eventos específicos (Reveillon, Carnaval e Rock in Rio) e a média diária de chamados abertos desse subtipo considerando todo o período de 01/01/2022 até 31/12/2023."
      ],
      "metadata": {
        "id": "S_uQdn13CG7A"
      }
    },
    {
      "cell_type": "code",
      "source": [
        "# Tabela Total de Chamados e Média Diária por Evento e Período Completo\n",
        "\n",
        "# Calcular a média diária de chamados para o período de 01/01/2022 até 31/12/2023\n",
        "total_dias_periodo = (data_final - data_inicial).days + 1  # Adicionando 1 para incluir o último dia\n",
        "media_diaria_periodo = total_chamados_unicos / total_dias_periodo\n",
        "\n",
        "# Adicionando a média diária do período ao DataFrame dados_tabela_corrigida\n",
        "dados_tabela3 = dados_tabela3.append({'Evento': 'Período Completo', 'Total de Chamados': total_dias_periodo, 'Média Diária': media_diaria_periodo}, ignore_index=True)\n",
        "\n",
        "# Removendo a coluna de variação\n",
        "dados_tabela_corrigida = dados_tabela3[['Evento', 'Total de Chamados', 'Média Diária']]\n",
        "\n",
        "# Tabela\n",
        "fig = go.Figure(data=[go.Table(\n",
        "    header=dict(values=['Evento', 'Total de Chamados', 'Média Diária'],\n",
        "                fill_color='grey',\n",
        "                align='center',\n",
        "                font=dict(color='white', size=14, family='Arial, sans-serif')),\n",
        "    cells=dict(values=[dados_tabela_corrigida['Evento'], dados_tabela_corrigida['Total de Chamados'], dados_tabela_corrigida['Média Diária']],\n",
        "               fill_color='white',\n",
        "               align='center',\n",
        "               font=dict(color='black', size=12, family='Arial, sans-serif')))\n",
        "])\n",
        "\n",
        "# Título, legenda\n",
        "fig.update_layout(\n",
        "    title=dict(text=\"Total de Chamados e Média Diária por Evento e Período Completo\", x=0.5, font=dict(size=16)),\n",
        "    annotations=[dict(text=\"Fonte: DataRio | Portal de Dados Abertos da Prefeitura da Cidade do Rio de Janeiro\", showarrow=False, x=0.5, y=-0.15, xref='paper', yref='paper', font=dict(size=12))]\n",
        ")\n",
        "\n",
        "fig.show()\n"
      ],
      "metadata": {
        "id": "bQx9R29GsddE"
      },
      "execution_count": null,
      "outputs": []
    },
    {
      "cell_type": "markdown",
      "source": [
        "RESPOSTA: Durante o período analisado, observamos na tabela acima, uma média diária de 58 chamadas por perturbação de sossego. No entanto, durante os sete dias do evento Rock in Rio, essa média praticamente dobrou, atingindo 119 chamados diários. Por outro lado, durante o Carnaval, a média foi superior, alcançando 60 chamados diários. Já no Réveillon, a média foi um pouco menor, registrando 45 chamados diários. Esses dados demonstram claramente o impacto que eventos de grande porte podem ter incidência de chamados relacionados à perturbação de sossego."
      ],
      "metadata": {
        "id": "AAXFCE9p9BCG"
      }
    },
    {
      "cell_type": "markdown",
      "source": [
        "### Análise Exploratória"
      ],
      "metadata": {
        "id": "3hcKROoaraa9"
      }
    },
    {
      "cell_type": "code",
      "source": [
        "# Mapa de tradução dos nomes dos meses\n",
        "mapa_meses = {\n",
        "    'January': 'Janeiro',\n",
        "    'February': 'Fevereiro',\n",
        "    'March': 'Março',\n",
        "    'April': 'Abril',\n",
        "    'May': 'Maio',\n",
        "    'June': 'Junho',\n",
        "    'July': 'Julho',\n",
        "    'August': 'Agosto',\n",
        "    'September': 'Setembro',\n",
        "    'October': 'Outubro',\n",
        "    'November': 'Novembro',\n",
        "    'December': 'Dezembro'\n",
        "}\n",
        "\n",
        "# Criar uma cópia do DataFrame\n",
        "dados_copia = dados.copy()\n",
        "\n",
        "# Converter a coluna de datas para o tipo datetime\n",
        "dados_copia['data_inicio'] = pd.to_datetime(dados_copia['data_inicio'])\n",
        "\n",
        "# Definir a coluna de datas como índice do DataFrame\n",
        "dados_copia.set_index('data_inicio', inplace=True)\n",
        "\n",
        "# Agrupar as reclamações por mês e calcular a quantidade total de reclamações em cada mês\n",
        "reclamacoes_por_mes = dados_copia.resample('M')['reclamacoes'].sum()\n",
        "\n",
        "# Converter o índice do DataFrame para strings com os nomes dos meses em português\n",
        "reclamacoes_por_mes.index = reclamacoes_por_mes.index.strftime('%B %Y')\n",
        "reclamacoes_por_mes.index = reclamacoes_por_mes.index.map(lambda x: ' '.join(mapa_meses.get(mes, mes) for mes in x.split()))\n",
        "\n",
        "# Criar o gráfico de linha\n",
        "plt.figure(figsize=(13.3, 7.5))\n",
        "\n",
        "# Plotar a linha\n",
        "reclamacoes_por_mes.plot(kind='line', color='blue')\n",
        "\n",
        "# Ajustar os rótulos do eixo x para exibir apenas os nomes dos meses de 2 em 2 meses\n",
        "ticks = [label if i % 2 == 0 else '' for i, label in enumerate(reclamacoes_por_mes.index)]\n",
        "plt.xticks(range(len(reclamacoes_por_mes.index)), ticks, rotation=45, ha='right')\n",
        "\n",
        "# Remover a grade do gráfico\n",
        "plt.grid(False)\n",
        "\n",
        "# Título, subtítulo, legenda\n",
        "plt.suptitle(\"Reclamações Recebidas pela Administração de Serviços Públicos\", ha='center', fontsize=12, fontweight='bold')\n",
        "plt.title(\"Janeiro 2022 / Janeiro 2024 | Rio de Janeiro - RJ\", ha='center', fontsize=9, style='italic', pad=20)\n",
        "plt.figtext(0.5, -0.1, 'Fonte: DataRio | Portal de Dados Abertos da Prefeitura da Cidade do Rio de Janeiro', ha='center', fontsize=9)\n",
        "plt.xlabel('Mês/Ano')\n",
        "plt.ylabel('Reclamações')\n",
        "plt.tight_layout()\n",
        "plt.show()\n"
      ],
      "metadata": {
        "id": "0JMRyHEWzSwl"
      },
      "execution_count": null,
      "outputs": []
    },
    {
      "cell_type": "code",
      "source": [
        "# Gráfico Quantidade de Chamados por Região Administrativa\n",
        "\n",
        "# Filtrar a coluna 'nome_regiao_administrativa' para remover valores NaN, se houver\n",
        "dados_filtrados = dados.dropna(subset=['nome_regiao_administrativa'])\n",
        "\n",
        "# Agrupar os dados pelo nome da região administrativa e contar o número de id_chamado em cada grupo\n",
        "contagem_por_regiao = dados_filtrados.groupby('nome_regiao_administrativa')['id_chamado'].count().reset_index()\n",
        "\n",
        "# Ordenar os dados pela contagem de id_chamado em ordem decrescente\n",
        "contagem_por_regiao = contagem_por_regiao.sort_values(by='id_chamado', ascending=False)\n",
        "\n",
        "# Criar o gráfico de barras\n",
        "sns.set_style(\"whitegrid\")\n",
        "plt.figure(figsize=(13.3, 7.5))\n",
        "ax = sns.barplot(x='id_chamado', y='nome_regiao_administrativa', data=contagem_por_regiao, palette=\"Blues_d\")\n",
        "\n",
        "# Adicionar rótulos às barras\n",
        "for p in ax.patches:\n",
        "    width = p.get_width()\n",
        "    plt.text(width + 10, p.get_y() + p.get_height() / 2, f\"{int(width)}\", ha='center', va='center', fontsize=8)\n",
        "\n",
        "# Remover a grade do gráfico\n",
        "plt.grid(False)\n",
        "\n",
        "# Título, subtítulo, legenda\n",
        "plt.suptitle(\"Quantidade de Chamados por Região Administrativa\", ha='center', fontsize=12, fontweight='bold')\n",
        "plt.title(\"Janeiro 2022 / Janeiro 2024 | Rio de Janeiro - RJ\", ha='center', fontsize=9, style='italic', pad=20)\n",
        "plt.figtext(0.5, -0.1, 'Fonte: DataRio | Portal de Dados Abertos da Prefeitura da Cidade do Rio de Janeiro', ha='center', fontsize=9)\n",
        "plt.xlabel('Número de Chamados')\n",
        "plt.ylabel('Região Administrativa')\n",
        "plt.tight_layout()\n",
        "plt.show()\n"
      ],
      "metadata": {
        "id": "K3L7wDk76SIW"
      },
      "execution_count": null,
      "outputs": []
    },
    {
      "cell_type": "code",
      "source": [
        "# Gráfico Quantidade de Chamados por Subprefeitura\n",
        "\n",
        "# Filtrar os dados para remover valores NaN na coluna 'subprefeitura'\n",
        "dados_filtrados = dados.dropna(subset=['subprefeitura'])\n",
        "\n",
        "# Agrupar os dados por subprefeitura e contar os valores únicos de id_chamado\n",
        "dados_agrupados = dados_filtrados.groupby('subprefeitura')['id_chamado'].nunique().reset_index()\n",
        "\n",
        "# Criar o gráfico de barras\n",
        "plt.figure(figsize=(13.3, 7.5))\n",
        "sns.set(style=\"whitegrid\")\n",
        "\n",
        "ax = sns.barplot(x=\"subprefeitura\",\n",
        "                 y=\"id_chamado\",\n",
        "                 data=dados_agrupados,\n",
        "                 palette=\"Spectral\")  # Alteração da paleta de cores para Spectral\n",
        "\n",
        "# Definir os rótulos para o eixo x\n",
        "ax.set_xticklabels(ax.get_xticklabels(), rotation=45, horizontalalignment='right')\n",
        "\n",
        "# Adicionar rótulos nas barras\n",
        "for index, row in dados_agrupados.iterrows():\n",
        "    ax.text(index, row['id_chamado'], str(row['id_chamado']), color='black', ha=\"center\", fontsize=9)\n",
        "\n",
        "# Remover a grade do gráfico\n",
        "plt.grid(False)\n",
        "\n",
        "# Título, legenda e fonte\n",
        "plt.suptitle(\"Quantidade de Chamados por Subprefeitura\", fontsize=12, fontweight='bold')\n",
        "plt.title(\"Janeiro 2022 / Janeiro 2024 | Rio de Janeiro - RJ\", ha='center', fontsize=9, style='italic', pad=20)\n",
        "plt.xlabel(\"Subprefeitura\")\n",
        "plt.ylabel(\"Quantidade de Chamados\")\n",
        "plt.figtext(0.5, -0.1, \"Fonte: DataRio | Portal de Dados Abertos da Prefeitura da Cidade do Rio de Janeiro\", wrap=True, horizontalalignment='center', fontsize=9)\n",
        "\n",
        "plt.tight_layout()\n",
        "plt.show()\n"
      ],
      "metadata": {
        "id": "MAx-An-1K27Z"
      },
      "execution_count": null,
      "outputs": []
    },
    {
      "cell_type": "code",
      "source": [
        "%%capture\n",
        "# Converter a coluna de datas para o tipo datetime\n",
        "dados['data_inicio'] = pd.to_datetime(dados['data_inicio'])\n",
        "\n",
        "# Filtrar os dados para incluir apenas aqueles com uma data de início maior ou igual a 2023\n",
        "dados_mapa = dados[dados['data_inicio'].dt.year >= 2024]\n",
        "dados_mapa"
      ],
      "metadata": {
        "id": "upPimhqj-zGx"
      },
      "execution_count": null,
      "outputs": []
    },
    {
      "cell_type": "code",
      "source": [
        "# Mapa do chamados realizados por regiões em 2024\n",
        "\n",
        "# Filtrar o DataFrame para remover linhas com valores NaN nas colunas de latitude e longitude\n",
        "dados_sem_nan = dados_mapa.dropna(subset=['latitude', 'longitude'])\n",
        "\n",
        "# Criar um mapa centrado em uma localização inicial\n",
        "mapa = folium.Map(location=[-22.9035, -43.2096], zoom_start=11)\n",
        "\n",
        "# Criar um cluster de marcadores\n",
        "marker_cluster = MarkerCluster().add_to(mapa)\n",
        "\n",
        "# Adicionar marcadores para cada ponto de latitude e longitude no DataFrame filtrado\n",
        "for index, row in dados_sem_nan.iterrows():\n",
        "    folium.Marker([row['latitude'], row['longitude']]).add_to(marker_cluster)\n",
        "mapa"
      ],
      "metadata": {
        "id": "lqELBmBl-22O"
      },
      "execution_count": null,
      "outputs": []
    }
  ]
}